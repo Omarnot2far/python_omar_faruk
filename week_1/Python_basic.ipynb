{
 "cells": [
  {
   "cell_type": "markdown",
   "id": "8487ee9c",
   "metadata": {},
   "source": [
    "**Variables: Variables which stores data**"
   ]
  },
  {
   "cell_type": "code",
   "execution_count": 4,
   "id": "90a138ec",
   "metadata": {},
   "outputs": [],
   "source": [
    "x = 5  # integer\n",
    "y = \"Hello World\"  # string\n",
    "z = 3.14  # float"
   ]
  },
  {
   "cell_type": "code",
   "execution_count": 5,
   "id": "ad121150",
   "metadata": {},
   "outputs": [
    {
     "name": "stdout",
     "output_type": "stream",
     "text": [
      "5\n",
      "Hello World\n",
      "3.14\n"
     ]
    }
   ],
   "source": [
    "print(x)\n",
    "print(y)\n",
    "print(z)"
   ]
  },
  {
   "cell_type": "markdown",
   "id": "4073f6ac",
   "metadata": {},
   "source": [
    "**List: Lists are mutable/changeable, ordered collections**"
   ]
  },
  {
   "cell_type": "code",
   "execution_count": 12,
   "id": "0e4a5ed8",
   "metadata": {},
   "outputs": [],
   "source": [
    "fruits = [\"apple\", \"banana\", \"cherry\"]"
   ]
  },
  {
   "cell_type": "code",
   "execution_count": 13,
   "id": "c041b7bd",
   "metadata": {},
   "outputs": [],
   "source": [
    "fruits.append(\"date\")"
   ]
  },
  {
   "cell_type": "code",
   "execution_count": 14,
   "id": "8e34a119",
   "metadata": {},
   "outputs": [
    {
     "name": "stdout",
     "output_type": "stream",
     "text": [
      "['apple', 'banana', 'cherry', 'date']\n"
     ]
    }
   ],
   "source": [
    "print(fruits)"
   ]
  },
  {
   "cell_type": "markdown",
   "id": "0332bc36",
   "metadata": {},
   "source": [
    "**Tuples:  Tuplesare immutable, ordered collections**"
   ]
  },
  {
   "cell_type": "code",
   "execution_count": 15,
   "id": "830f8039",
   "metadata": {},
   "outputs": [],
   "source": [
    "coordinates = (10, 20)"
   ]
  },
  {
   "cell_type": "code",
   "execution_count": 16,
   "id": "00f54e57",
   "metadata": {},
   "outputs": [
    {
     "data": {
      "text/plain": [
       "(10, 20)"
      ]
     },
     "execution_count": 16,
     "metadata": {},
     "output_type": "execute_result"
    }
   ],
   "source": [
    "coordinates"
   ]
  },
  {
   "cell_type": "markdown",
   "id": "6b804ace",
   "metadata": {},
   "source": [
    "**Dictionaries: Dictionaries store key-value pairs**"
   ]
  },
  {
   "cell_type": "code",
   "execution_count": 17,
   "id": "59a00807",
   "metadata": {},
   "outputs": [],
   "source": [
    "person = {\"name\": \"John\", \"age\": 30}"
   ]
  },
  {
   "cell_type": "code",
   "execution_count": 18,
   "id": "58454b74",
   "metadata": {},
   "outputs": [
    {
     "data": {
      "text/plain": [
       "{'name': 'John', 'age': 30}"
      ]
     },
     "execution_count": 18,
     "metadata": {},
     "output_type": "execute_result"
    }
   ],
   "source": [
    "person"
   ]
  },
  {
   "cell_type": "markdown",
   "id": "24ee2132",
   "metadata": {},
   "source": [
    "**Sets:  Sets is unique, unordered elements**"
   ]
  },
  {
   "cell_type": "code",
   "execution_count": 19,
   "id": "dec80c06",
   "metadata": {},
   "outputs": [],
   "source": [
    "unique_numbers = {1, 2, 3, 4, 5}"
   ]
  },
  {
   "cell_type": "code",
   "execution_count": 20,
   "id": "dc99ce48",
   "metadata": {},
   "outputs": [
    {
     "data": {
      "text/plain": [
       "{1, 2, 3, 4, 5}"
      ]
     },
     "execution_count": 20,
     "metadata": {},
     "output_type": "execute_result"
    }
   ],
   "source": [
    "unique_numbers"
   ]
  },
  {
   "cell_type": "markdown",
   "id": "8d69eec3",
   "metadata": {},
   "source": [
    "**For loop: For loop iterate over collections**"
   ]
  },
  {
   "cell_type": "code",
   "execution_count": 21,
   "id": "5695433c",
   "metadata": {},
   "outputs": [
    {
     "name": "stdout",
     "output_type": "stream",
     "text": [
      "apple\n",
      "banana\n",
      "cherry\n",
      "date\n"
     ]
    }
   ],
   "source": [
    "for fruit in fruits:\n",
    "    print(fruit)"
   ]
  },
  {
   "cell_type": "markdown",
   "id": "9fb73d48",
   "metadata": {},
   "source": [
    "**Function: Functions define reusable code blocks**"
   ]
  },
  {
   "cell_type": "code",
   "execution_count": 23,
   "id": "75ca01e8",
   "metadata": {},
   "outputs": [],
   "source": [
    "def double_number(num):                 \n",
    "    return num * 2"
   ]
  },
  {
   "cell_type": "code",
   "execution_count": 24,
   "id": "e9185fb3",
   "metadata": {},
   "outputs": [
    {
     "name": "stdout",
     "output_type": "stream",
     "text": [
      "10\n"
     ]
    }
   ],
   "source": [
    "# Using the function\n",
    "result = double_number(5)\n",
    "print(result) "
   ]
  },
  {
   "cell_type": "code",
   "execution_count": 25,
   "id": "3e0855ce",
   "metadata": {},
   "outputs": [
    {
     "name": "stdout",
     "output_type": "stream",
     "text": [
      "14\n"
     ]
    }
   ],
   "source": [
    "# Using it with a variable\n",
    "x = 7\n",
    "doubled_x = double_number(x)\n",
    "print(doubled_x) "
   ]
  },
  {
   "cell_type": "markdown",
   "id": "a7ea9ff6",
   "metadata": {},
   "source": [
    "**If statements: control program flow based on conditions**"
   ]
  },
  {
   "cell_type": "code",
   "execution_count": 26,
   "id": "4b622861",
   "metadata": {},
   "outputs": [
    {
     "name": "stdout",
     "output_type": "stream",
     "text": [
      "Positive\n"
     ]
    }
   ],
   "source": [
    "if x > 0:\n",
    "    print(\"Positive\")\n",
    "elif x < 0:\n",
    "    print(\"Negative\")\n",
    "else:\n",
    "    print(\"Zero\")"
   ]
  }
 ],
 "metadata": {
  "kernelspec": {
   "display_name": "Python 3 (ipykernel)",
   "language": "python",
   "name": "python3"
  },
  "language_info": {
   "codemirror_mode": {
    "name": "ipython",
    "version": 3
   },
   "file_extension": ".py",
   "mimetype": "text/x-python",
   "name": "python",
   "nbconvert_exporter": "python",
   "pygments_lexer": "ipython3",
   "version": "3.11.5"
  }
 },
 "nbformat": 4,
 "nbformat_minor": 5
}
